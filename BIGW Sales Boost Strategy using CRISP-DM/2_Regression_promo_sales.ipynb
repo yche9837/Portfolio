{
 "cells": [
  {
   "cell_type": "markdown",
   "metadata": {},
   "source": [
    "# 1. Setting up the environment"
   ]
  },
  {
   "cell_type": "markdown",
   "metadata": {},
   "source": [
    "## 1.1 Load Packages"
   ]
  },
  {
   "cell_type": "code",
   "execution_count": 1,
   "metadata": {},
   "outputs": [],
   "source": [
    "import numpy as np\n",
    "import pandas as pd\n",
    "import seaborn as sns\n",
    "import matplotlib.pyplot as plt\n",
    "import matplotlib as mpl\n",
    "from statsmodels.tsa.stattools import ccf\n",
    "import statsmodels.formula.api as smf\n",
    "from scipy import stats\n",
    "import scipy.stats as stats\n",
    "from sklearn import datasets\n",
    "from sklearn.model_selection import train_test_split\n",
    "from sklearn.linear_model import LinearRegression\n",
    "from datetime import date\n",
    "import statsmodels.api as sm\n",
    "from sklearn.preprocessing import StandardScaler\n",
    "from sklearn.decomposition import PCA\n",
    "from sklearn.linear_model import LogisticRegression\n",
    "from sklearn.metrics import mean_squared_error\n",
    "\n",
    "import warnings\n",
    "warnings.filterwarnings('ignore')"
   ]
  },
  {
   "cell_type": "markdown",
   "metadata": {},
   "source": [
    "## 1.2 Load Data"
   ]
  },
  {
   "cell_type": "code",
   "execution_count": 2,
   "metadata": {},
   "outputs": [],
   "source": [
    "train_data_raw = pd.read_csv(\"/Users/wgc/Desktop/qbus3600GroupAsm/FinSalesPriceData_train.csv\")\n",
    "test_data_raw = pd.read_csv(\"/Users/wgc/Desktop/qbus3600GroupAsm/FinSalesPriceData_test.csv\")\n",
    "competitor_data_raw = pd.read_csv(\"/Users/wgc/Desktop/qbus3600GroupAsm/CompetitorPriceData.csv\")"
   ]
  },
  {
   "cell_type": "code",
   "execution_count": 3,
   "metadata": {},
   "outputs": [
    {
     "data": {
      "text/html": [
       "<div>\n",
       "<style scoped>\n",
       "    .dataframe tbody tr th:only-of-type {\n",
       "        vertical-align: middle;\n",
       "    }\n",
       "\n",
       "    .dataframe tbody tr th {\n",
       "        vertical-align: top;\n",
       "    }\n",
       "\n",
       "    .dataframe thead th {\n",
       "        text-align: right;\n",
       "    }\n",
       "</style>\n",
       "<table border=\"1\" class=\"dataframe\">\n",
       "  <thead>\n",
       "    <tr style=\"text-align: right;\">\n",
       "      <th></th>\n",
       "      <th>calendar_day</th>\n",
       "      <th>article_id</th>\n",
       "      <th>article_desc</th>\n",
       "      <th>category</th>\n",
       "      <th>subcategory</th>\n",
       "      <th>segment</th>\n",
       "      <th>brand</th>\n",
       "      <th>brandtype</th>\n",
       "      <th>sell_price</th>\n",
       "      <th>promo_price</th>\n",
       "      <th>promo_sales</th>\n",
       "      <th>promo_units</th>\n",
       "      <th>gross_profit</th>\n",
       "      <th>scanback</th>\n",
       "      <th>sales_amount</th>\n",
       "      <th>sales_units</th>\n",
       "      <th>cnt_site_art_ranged</th>\n",
       "      <th>cnt_site_art_ranged_pstv_soh</th>\n",
       "      <th>tot_soh_ranged_sites</th>\n",
       "      <th>gst_flag</th>\n",
       "    </tr>\n",
       "  </thead>\n",
       "  <tbody>\n",
       "    <tr>\n",
       "      <th>0</th>\n",
       "      <td>2022-02-07</td>\n",
       "      <td>196544</td>\n",
       "      <td>Skin Control Pimple Patch Micro Dart 9pk</td>\n",
       "      <td>Skin &amp; Sun Care</td>\n",
       "      <td>Skincare Face</td>\n",
       "      <td>Other</td>\n",
       "      <td>SKIN CONTROL</td>\n",
       "      <td>National Brand</td>\n",
       "      <td>13.00</td>\n",
       "      <td>13.0</td>\n",
       "      <td>13.0</td>\n",
       "      <td>1</td>\n",
       "      <td>86.550</td>\n",
       "      <td>0.0</td>\n",
       "      <td>190.7080</td>\n",
       "      <td>15</td>\n",
       "      <td>176</td>\n",
       "      <td>171</td>\n",
       "      <td>1444.0</td>\n",
       "      <td>Y</td>\n",
       "    </tr>\n",
       "    <tr>\n",
       "      <th>1</th>\n",
       "      <td>2022-02-07</td>\n",
       "      <td>103515</td>\n",
       "      <td>Spascriptions Superfoods Masks 3x 50ml</td>\n",
       "      <td>Skin &amp; Sun Care</td>\n",
       "      <td>Skincare Face</td>\n",
       "      <td>Masks</td>\n",
       "      <td>SPASCRIPTIONS</td>\n",
       "      <td>National Brand</td>\n",
       "      <td>20.00</td>\n",
       "      <td>NaN</td>\n",
       "      <td>NaN</td>\n",
       "      <td>0</td>\n",
       "      <td>28.719</td>\n",
       "      <td>0.0</td>\n",
       "      <td>59.7999</td>\n",
       "      <td>3</td>\n",
       "      <td>176</td>\n",
       "      <td>175</td>\n",
       "      <td>1907.0</td>\n",
       "      <td>Y</td>\n",
       "    </tr>\n",
       "    <tr>\n",
       "      <th>2</th>\n",
       "      <td>2022-02-07</td>\n",
       "      <td>103517</td>\n",
       "      <td>Spascriptions Retinol Facial Serum</td>\n",
       "      <td>Skin &amp; Sun Care</td>\n",
       "      <td>Skincare Face</td>\n",
       "      <td>Masks</td>\n",
       "      <td>SPASCRIPTIONS</td>\n",
       "      <td>National Brand</td>\n",
       "      <td>18.00</td>\n",
       "      <td>NaN</td>\n",
       "      <td>NaN</td>\n",
       "      <td>0</td>\n",
       "      <td>17.158</td>\n",
       "      <td>0.0</td>\n",
       "      <td>35.8198</td>\n",
       "      <td>2</td>\n",
       "      <td>176</td>\n",
       "      <td>174</td>\n",
       "      <td>844.0</td>\n",
       "      <td>Y</td>\n",
       "    </tr>\n",
       "    <tr>\n",
       "      <th>3</th>\n",
       "      <td>2022-02-07</td>\n",
       "      <td>103518</td>\n",
       "      <td>Spascriptions Collagen Facial Serum</td>\n",
       "      <td>Skin &amp; Sun Care</td>\n",
       "      <td>Skincare Face</td>\n",
       "      <td>Masks</td>\n",
       "      <td>SPASCRIPTIONS</td>\n",
       "      <td>National Brand</td>\n",
       "      <td>18.00</td>\n",
       "      <td>NaN</td>\n",
       "      <td>NaN</td>\n",
       "      <td>0</td>\n",
       "      <td>42.926</td>\n",
       "      <td>0.0</td>\n",
       "      <td>89.6396</td>\n",
       "      <td>5</td>\n",
       "      <td>176</td>\n",
       "      <td>174</td>\n",
       "      <td>938.0</td>\n",
       "      <td>Y</td>\n",
       "    </tr>\n",
       "    <tr>\n",
       "      <th>4</th>\n",
       "      <td>2022-02-07</td>\n",
       "      <td>103520</td>\n",
       "      <td>7th Heaven Blackhead Stardust Face Mask</td>\n",
       "      <td>Skin &amp; Sun Care</td>\n",
       "      <td>Skincare Face</td>\n",
       "      <td>7Th Heaven</td>\n",
       "      <td>7TH HEAVEN</td>\n",
       "      <td>National Brand</td>\n",
       "      <td>6.95</td>\n",
       "      <td>NaN</td>\n",
       "      <td>NaN</td>\n",
       "      <td>0</td>\n",
       "      <td>16.919</td>\n",
       "      <td>0.0</td>\n",
       "      <td>41.5209</td>\n",
       "      <td>6</td>\n",
       "      <td>176</td>\n",
       "      <td>173</td>\n",
       "      <td>1960.0</td>\n",
       "      <td>Y</td>\n",
       "    </tr>\n",
       "  </tbody>\n",
       "</table>\n",
       "</div>"
      ],
      "text/plain": [
       "  calendar_day  article_id                              article_desc  \\\n",
       "0   2022-02-07      196544  Skin Control Pimple Patch Micro Dart 9pk   \n",
       "1   2022-02-07      103515    Spascriptions Superfoods Masks 3x 50ml   \n",
       "2   2022-02-07      103517        Spascriptions Retinol Facial Serum   \n",
       "3   2022-02-07      103518       Spascriptions Collagen Facial Serum   \n",
       "4   2022-02-07      103520   7th Heaven Blackhead Stardust Face Mask   \n",
       "\n",
       "          category    subcategory     segment          brand       brandtype  \\\n",
       "0  Skin & Sun Care  Skincare Face       Other   SKIN CONTROL  National Brand   \n",
       "1  Skin & Sun Care  Skincare Face       Masks  SPASCRIPTIONS  National Brand   \n",
       "2  Skin & Sun Care  Skincare Face       Masks  SPASCRIPTIONS  National Brand   \n",
       "3  Skin & Sun Care  Skincare Face       Masks  SPASCRIPTIONS  National Brand   \n",
       "4  Skin & Sun Care  Skincare Face  7Th Heaven     7TH HEAVEN  National Brand   \n",
       "\n",
       "   sell_price  promo_price  promo_sales  promo_units  gross_profit  scanback  \\\n",
       "0       13.00         13.0         13.0            1        86.550       0.0   \n",
       "1       20.00          NaN          NaN            0        28.719       0.0   \n",
       "2       18.00          NaN          NaN            0        17.158       0.0   \n",
       "3       18.00          NaN          NaN            0        42.926       0.0   \n",
       "4        6.95          NaN          NaN            0        16.919       0.0   \n",
       "\n",
       "   sales_amount  sales_units  cnt_site_art_ranged  \\\n",
       "0      190.7080           15                  176   \n",
       "1       59.7999            3                  176   \n",
       "2       35.8198            2                  176   \n",
       "3       89.6396            5                  176   \n",
       "4       41.5209            6                  176   \n",
       "\n",
       "   cnt_site_art_ranged_pstv_soh  tot_soh_ranged_sites gst_flag  \n",
       "0                           171                1444.0        Y  \n",
       "1                           175                1907.0        Y  \n",
       "2                           174                 844.0        Y  \n",
       "3                           174                 938.0        Y  \n",
       "4                           173                1960.0        Y  "
      ]
     },
     "execution_count": 3,
     "metadata": {},
     "output_type": "execute_result"
    }
   ],
   "source": [
    "train_data_raw.head()"
   ]
  },
  {
   "cell_type": "markdown",
   "metadata": {},
   "source": [
    "## 1.3 Make a copy of the data"
   ]
  },
  {
   "cell_type": "code",
   "execution_count": 4,
   "metadata": {},
   "outputs": [],
   "source": [
    "# make a copy of the data\n",
    "data_train = train_data_raw.copy()\n",
    "data_test = test_data_raw.copy()\n",
    "data_c = competitor_data_raw.copy()"
   ]
  },
  {
   "cell_type": "markdown",
   "metadata": {},
   "source": [
    "# 2. Data Preprocessing"
   ]
  },
  {
   "cell_type": "markdown",
   "metadata": {},
   "source": [
    "## 2.1 Split the train data for train and validation sets"
   ]
  },
  {
   "cell_type": "code",
   "execution_count": 5,
   "metadata": {},
   "outputs": [
    {
     "name": "stdout",
     "output_type": "stream",
     "text": [
      "(1000013, 20)\n",
      "(250004, 20)\n",
      "(605777, 20)\n"
     ]
    }
   ],
   "source": [
    "data_train_idx, data_val_idx = train_test_split(data_train.index, test_size=0.2, random_state=3600)\n",
    "data_train = train_data_raw.loc[data_train_idx]\n",
    "data_val = train_data_raw.loc[data_val_idx]\n",
    "\n",
    "print(data_train.shape)\n",
    "print(data_val.shape)\n",
    "print(data_test.shape)\n"
   ]
  },
  {
   "cell_type": "markdown",
   "metadata": {},
   "source": [
    "## 2.2 Missing Value Management"
   ]
  },
  {
   "cell_type": "code",
   "execution_count": 6,
   "metadata": {},
   "outputs": [],
   "source": [
    "# function that process the selling price data\n",
    "def missing_sell_price(data):\n",
    "    # Calculate NA sell price using sales amount / sales units\n",
    "    data['sell_price'] = data['sell_price'].fillna(data['sales_amount']/data['sales_units'])\n",
    "    # Use previous sell price of no sales amount\n",
    "    data['sell_price'] = data['sell_price'].fillna(method='ffill')\n",
    "    return data\n",
    "\n",
    "# function that process missing promo price and promo sales\n",
    "def missing_promo(data):\n",
    "    for idx in data.index:\n",
    "        if pd.isna(data['promo_price'][idx]) and pd.notna(data['promo_sales'][idx]):\n",
    "            data['promo_sales'][idx] = np.nan\n",
    "    return data"
   ]
  },
  {
   "cell_type": "code",
   "execution_count": 7,
   "metadata": {},
   "outputs": [],
   "source": [
    "data_train = missing_sell_price(data_train)\n",
    "data_train = missing_promo(data_train)\n",
    "\n",
    "data_val = missing_sell_price(data_val)\n",
    "data_val = missing_promo(data_val)\n",
    "\n",
    "data_test = missing_sell_price(data_test)\n",
    "data_test = missing_promo(data_test)"
   ]
  },
  {
   "cell_type": "code",
   "execution_count": 8,
   "metadata": {},
   "outputs": [
    {
     "name": "stdout",
     "output_type": "stream",
     "text": [
      "(1000013, 20)\n",
      "(250004, 20)\n",
      "(605777, 20)\n"
     ]
    }
   ],
   "source": [
    "print(data_train.shape)\n",
    "print(data_val.shape)\n",
    "print(data_test.shape)"
   ]
  },
  {
   "cell_type": "markdown",
   "metadata": {},
   "source": [
    "## 2.3 Inconsistencies and Anomalies"
   ]
  },
  {
   "cell_type": "markdown",
   "metadata": {},
   "source": [
    "### 2.3.1 Negative Sell Price, Promotion Price, Promotional Sales, and Scanback"
   ]
  },
  {
   "cell_type": "code",
   "execution_count": 9,
   "metadata": {},
   "outputs": [
    {
     "name": "stdout",
     "output_type": "stream",
     "text": [
      "(997831, 20)\n",
      "(249465, 20)\n",
      "(604344, 20)\n"
     ]
    }
   ],
   "source": [
    "# function that drop negative promotion negative, negative sell price\n",
    "def drop_neg_invalid_rows(data):\n",
    "    data = data.drop(data[data['promo_price'] < 0].index)\n",
    "    data = data.drop(data[data['promo_sales'] < 0].index)\n",
    "    data = data.drop(data[data['scanback'] < 0].index)\n",
    "    data = data.drop(data[data['sell_price'] < 0].index)\n",
    "    return data\n",
    "\n",
    "data_train = drop_neg_invalid_rows(data_train)\n",
    "data_val = drop_neg_invalid_rows(data_val)\n",
    "data_test = drop_neg_invalid_rows(data_test)\n",
    "\n",
    "print(data_train.shape)\n",
    "print(data_val.shape)\n",
    "print(data_test.shape)"
   ]
  },
  {
   "cell_type": "markdown",
   "metadata": {},
   "source": [
    "### 2.3.2 Availability Issues"
   ]
  },
  {
   "cell_type": "code",
   "execution_count": 10,
   "metadata": {},
   "outputs": [
    {
     "name": "stdout",
     "output_type": "stream",
     "text": [
      "(972425, 20)\n",
      "(243254, 20)\n",
      "(596838, 20)\n"
     ]
    }
   ],
   "source": [
    "# function that drop rows with availability issues\n",
    "def rm_availability_issue(data):\n",
    "    condition = data[(data['cnt_site_art_ranged'] > 0) & (data['tot_soh_ranged_sites'] == 0)]\n",
    "    data = data.drop(condition.index)\n",
    "    return data\n",
    "\n",
    "data_train = rm_availability_issue(data_train)\n",
    "data_val = rm_availability_issue(data_val)\n",
    "data_test = rm_availability_issue(data_test)\n",
    "\n",
    "print(data_train.shape)\n",
    "print(data_val.shape)\n",
    "print(data_test.shape)"
   ]
  },
  {
   "cell_type": "markdown",
   "metadata": {},
   "source": [
    "### 2.3.3 Invalid Sales (Sales Units and Promotional Units)"
   ]
  },
  {
   "cell_type": "code",
   "execution_count": 11,
   "metadata": {},
   "outputs": [
    {
     "name": "stdout",
     "output_type": "stream",
     "text": [
      "(919962, 20)\n",
      "(230080, 20)\n",
      "(562224, 20)\n"
     ]
    }
   ],
   "source": [
    "# function that drop rows where promo units or sales units are more than stock\n",
    "def drop_sell_more_than_stock(data):\n",
    "    data = data.drop(data[data['sales_units'] > data['tot_soh_ranged_sites']].index)\n",
    "    data = data.drop(data[data['promo_units'] > data['tot_soh_ranged_sites']].index)\n",
    "    return data\n",
    "\n",
    "data_train = drop_sell_more_than_stock(data_train)\n",
    "data_val = drop_sell_more_than_stock(data_val)\n",
    "data_test = drop_sell_more_than_stock(data_test)\n",
    "\n",
    "print(data_train.shape)\n",
    "print(data_val.shape)\n",
    "print(data_test.shape)"
   ]
  },
  {
   "cell_type": "markdown",
   "metadata": {},
   "source": [
    "### 2.3.4 Duplicates"
   ]
  },
  {
   "cell_type": "code",
   "execution_count": 12,
   "metadata": {},
   "outputs": [
    {
     "name": "stdout",
     "output_type": "stream",
     "text": [
      "(919962, 20)\n",
      "(230080, 20)\n",
      "(562224, 20)\n"
     ]
    }
   ],
   "source": [
    "# function that remove duplicates\n",
    "def remove_duplicates(data):\n",
    "    duplicate = data.duplicated()\n",
    "    data = data.drop(data[duplicate].index)\n",
    "    return data\n",
    "\n",
    "data_train = remove_duplicates(data_train)\n",
    "data_val = remove_duplicates(data_val)\n",
    "data_test = remove_duplicates(data_test)\n",
    "\n",
    "print(data_train.shape)\n",
    "print(data_val.shape)\n",
    "print(data_test.shape)"
   ]
  },
  {
   "cell_type": "markdown",
   "metadata": {},
   "source": [
    "### 2.3.5 Promo Price higher and equal to Sell Price"
   ]
  },
  {
   "cell_type": "code",
   "execution_count": 13,
   "metadata": {},
   "outputs": [
    {
     "name": "stdout",
     "output_type": "stream",
     "text": [
      "(919146, 20)\n",
      "(229874, 20)\n",
      "(561534, 20)\n"
     ]
    }
   ],
   "source": [
    "def remove_invalid_promo(data):\n",
    "    data = data.drop(data[(data['promo_price'] >= data['sell_price'])].index)\n",
    "    return data\n",
    "\n",
    "data_train = remove_invalid_promo(data_train)\n",
    "data_val = remove_invalid_promo(data_val)\n",
    "data_test = remove_invalid_promo(data_test)\n",
    "\n",
    "print(data_train.shape)\n",
    "print(data_val.shape)\n",
    "print(data_test.shape)"
   ]
  },
  {
   "cell_type": "markdown",
   "metadata": {},
   "source": [
    "### 2.3.5 Drop Inventory Features\n",
    "- This is because we won't know for certain what the inventory levels will be in the future."
   ]
  },
  {
   "cell_type": "code",
   "execution_count": 14,
   "metadata": {},
   "outputs": [],
   "source": [
    "data_train = data_train.drop(['cnt_site_art_ranged', 'cnt_site_art_ranged_pstv_soh', 'tot_soh_ranged_sites'], axis=1)\n",
    "data_val = data_val.drop(['cnt_site_art_ranged', 'cnt_site_art_ranged_pstv_soh', 'tot_soh_ranged_sites'], axis=1)\n",
    "data_test = data_test.drop(['cnt_site_art_ranged', 'cnt_site_art_ranged_pstv_soh', 'tot_soh_ranged_sites'], axis=1)"
   ]
  },
  {
   "cell_type": "markdown",
   "metadata": {},
   "source": [
    "## 2.4 Data Types Transformation\n",
    "1. Convert `calendar_day` to datetime\n",
    "2. Create dummy variables for categorical features\n",
    "    - `article_desc` does not have a clear categorisation, so we will not create dummy for it"
   ]
  },
  {
   "cell_type": "code",
   "execution_count": 15,
   "metadata": {},
   "outputs": [],
   "source": [
    "def cat_to_dum(data, var_name):\n",
    "    category_dummies = pd.get_dummies(data[var_name], prefix=var_name)\n",
    "    data = pd.concat([data, category_dummies], axis=1)\n",
    "    data = data.drop(var_name, axis=1)\n",
    "    return data\n",
    "    \n",
    "def data_type_transform(data):\n",
    "    # find the categorical columns\n",
    "    cat_columns = data.select_dtypes(include=['object']).columns\n",
    "    \n",
    "    # transform calendar_day to datetime object\n",
    "    data['calendar_day'] = pd.to_datetime(data['calendar_day'])\n",
    "    \n",
    "    # transform category to dummy\n",
    "    data = cat_to_dum(data, 'category')\n",
    "    \n",
    "    # transform sub_category to dummy\n",
    "    data = cat_to_dum(data, 'subcategory')\n",
    "    \n",
    "    # transform segment to dummy\n",
    "    data = cat_to_dum(data, 'segment')\n",
    "    \n",
    "    # transform brand to dummy\n",
    "    data = cat_to_dum(data, 'brand')\n",
    "    \n",
    "    # transform brandtype to dummy\n",
    "    data = cat_to_dum(data, 'brandtype')\n",
    "    \n",
    "    # transform gst to dummy\n",
    "    data = cat_to_dum(data, 'gst_flag')\n",
    "\n",
    "    return data"
   ]
  },
  {
   "cell_type": "code",
   "execution_count": 16,
   "metadata": {},
   "outputs": [],
   "source": [
    "data_train_with_dummy = data_train.copy()\n",
    "data_train_with_dummy = data_type_transform(data_train_with_dummy)\n",
    "\n",
    "data_val_with_dummy = data_val.copy()\n",
    "data_test_with_dummy = data_test.copy()\n",
    "\n",
    "data_val_with_dummy = data_type_transform(data_val_with_dummy)\n",
    "data_test_with_dummy = data_type_transform(data_test_with_dummy)"
   ]
  },
  {
   "cell_type": "code",
   "execution_count": 17,
   "metadata": {},
   "outputs": [
    {
     "name": "stdout",
     "output_type": "stream",
     "text": [
      "(919146, 413)\n",
      "(229874, 413)\n",
      "(561534, 413)\n"
     ]
    }
   ],
   "source": [
    "print(data_train_with_dummy.shape)\n",
    "print(data_val_with_dummy.shape)\n",
    "print(data_test_with_dummy.shape)"
   ]
  },
  {
   "cell_type": "markdown",
   "metadata": {},
   "source": [
    "## 2.5 Additional Variables\n",
    "1. Revised profits:\n",
    "    `net_proft` = `gross_profit` + `scanback`\n",
    "\n",
    "2. Cost of purchasing:\n",
    "    2.1 if GST is present: `sales_amount_exclude_gst` = `sales_amount` / 1.1\n",
    "    2.2 if GST is absent: `sales_amount_exclude_gst` = `sales_amount`\n",
    "    `cost_of_purchasing` = `sales_amount_exclude_gst` - `net_profit`\n",
    "\n",
    "3. Sales units per dollar decrease to see the price elasticity of the article:\n",
    "    `sales_units_per_dollar` = `promo_units` / (`selling_price` - `promo_price`)\n",
    "\n",
    "4. Day of Week\n",
    "    `day_of_week` = `date`.dt.dayofweek\n",
    "\n",
    "5. Whether competitor has a lower selling or shelves price\n",
    "\n",
    "6. Whether the article is on promotion (0 for no, 1 for yes)\n"
   ]
  },
  {
   "cell_type": "code",
   "execution_count": 18,
   "metadata": {},
   "outputs": [],
   "source": [
    "def new_var(data):\n",
    "    # Calculate revised net profit\n",
    "    data['net_profit'] = data['gross_profit'] + data['scanback']\n",
    "    \n",
    "    # Calculate sales amount excluding GST using vectorized operation\n",
    "    data['sales_amount_exclude_gst'] = data['sales_amount'] / (1.1 if 'gst_flag_Y' in data.columns and data['gst_flag_Y'].all() else 1)\n",
    "    \n",
    "    # Calculate cost of purchasing\n",
    "    data['cost_of_purchasing'] = data['sales_amount_exclude_gst'] - data['net_profit']\n",
    "    \n",
    "    # Calculate sales units per dollar decrease due to promotions\n",
    "    data['marginal_sales_per_dollar_decrease'] = data['promo_units'] / (data['sell_price'] - data['promo_price'])\n",
    "    \n",
    "    # Extract day of week from 'calendar_day'\n",
    "    data['day_of_week'] = data['calendar_day'].dt.dayofweek\n",
    "    ## treat day_of_week as categorical\n",
    "    data = cat_to_dum(data, 'day_of_week')\n",
    "    \n",
    "    # Identify whether the article is on promotion\n",
    "    data['on_promo'] = data['promo_price'].apply(lambda x: 1 if x > 0 else 0)\n",
    "    ## change on_promo to bool\n",
    "    data['on_promo'] = data['on_promo'].astype(bool)\n",
    "    \n",
    "    return data\n",
    "\n",
    "data_train_with_dummy = new_var(data_train_with_dummy)\n",
    "data_val_with_dummy = new_var(data_val_with_dummy)\n",
    "data_test_with_dummy = new_var(data_test_with_dummy)"
   ]
  },
  {
   "cell_type": "code",
   "execution_count": 19,
   "metadata": {},
   "outputs": [
    {
     "name": "stdout",
     "output_type": "stream",
     "text": [
      "(919146, 425)\n",
      "(229874, 425)\n",
      "(561534, 425)\n"
     ]
    }
   ],
   "source": [
    "print(data_train_with_dummy.shape)\n",
    "print(data_val_with_dummy.shape)\n",
    "print(data_test_with_dummy.shape)"
   ]
  },
  {
   "cell_type": "markdown",
   "metadata": {},
   "source": [
    "## 2.6 Standardisation"
   ]
  },
  {
   "cell_type": "markdown",
   "metadata": {},
   "source": [
    "### 2.6.1 Split into normal and promotional data"
   ]
  },
  {
   "cell_type": "code",
   "execution_count": 20,
   "metadata": {},
   "outputs": [
    {
     "name": "stdout",
     "output_type": "stream",
     "text": [
      "(733589, 425)\n",
      "(185557, 425)\n",
      "(441888, 425)\n",
      "(119646, 425)\n",
      "(183182, 425)\n",
      "(46692, 425)\n"
     ]
    }
   ],
   "source": [
    "def normal_promo_sets(data):\n",
    "    return data[data[\"promo_price\"].isna()], data[data[\"promo_price\"].notna()]\n",
    "\n",
    "# Split data into Normal Sales and Promo Sales\n",
    "train_normal, train_promo = normal_promo_sets(data_train_with_dummy)\n",
    "test_normal, test_promo = normal_promo_sets(data_test_with_dummy)\n",
    "val_normal, val_promo = normal_promo_sets(data_val_with_dummy)\n",
    "\n",
    "# check shape\n",
    "print(train_normal.shape)\n",
    "print(train_promo.shape)\n",
    "print(test_normal.shape)\n",
    "print(test_promo.shape)\n",
    "print(val_normal.shape)\n",
    "print(val_promo.shape)"
   ]
  },
  {
   "cell_type": "markdown",
   "metadata": {},
   "source": [
    "### 2.6.2 Standardise the data"
   ]
  },
  {
   "cell_type": "code",
   "execution_count": 21,
   "metadata": {},
   "outputs": [
    {
     "name": "stdout",
     "output_type": "stream",
     "text": [
      "Index(['promo_price', 'promo_sales', 'marginal_sales_per_dollar_decrease'], dtype='object')\n",
      "Index([], dtype='object')\n",
      "Index([], dtype='object')\n",
      "2.000000      573\n",
      "4.000000      503\n",
      "1.000000      483\n",
      "0.666667      421\n",
      "1.333333      396\n",
      "             ... \n",
      "56.787330       1\n",
      "22.096317       1\n",
      "20.487805       1\n",
      "0.804598        1\n",
      "489.189189      1\n",
      "Name: marginal_sales_per_dollar_decrease, Length: 57978, dtype: int64\n"
     ]
    }
   ],
   "source": [
    "# check numerical columns\n",
    "train_normal.select_dtypes(include=['int', 'float']).columns\n",
    "\n",
    "# colns that have na values for normal sales\n",
    "print(train_normal.columns[train_normal.isna().any()])\n",
    "\n",
    "# colns that have na values for promo sales\n",
    "print(train_promo.columns[train_promo.isna().any()])\n",
    "print(train_promo.columns[train_promo.isin([np.nan, np.inf, -np.inf]).any()])\n",
    "print(train_promo['marginal_sales_per_dollar_decrease'].value_counts())"
   ]
  },
  {
   "cell_type": "code",
   "execution_count": 22,
   "metadata": {},
   "outputs": [
    {
     "name": "stdout",
     "output_type": "stream",
     "text": [
      "(733589, 422)\n",
      "(185557, 425)\n",
      "(183182, 422)\n",
      "(46692, 425)\n",
      "(441888, 422)\n",
      "(119646, 425)\n"
     ]
    }
   ],
   "source": [
    "def prepare_for_std(data, promo=False):\n",
    "    # rm the columns that are misclassified as numerical\n",
    "    data['article_id'] = data_train_with_dummy['article_id'].astype(str)\n",
    "    \n",
    "    # consider two cases: normal sales and promo sales\n",
    "    ## for normal sales drop promo columns\n",
    "    if promo == False:\n",
    "        data = data.drop(['promo_price', 'promo_sales', 'marginal_sales_per_dollar_decrease'], axis=1)\n",
    "    return data\n",
    "\n",
    "train_normal = prepare_for_std(train_normal)\n",
    "train_promo = prepare_for_std(train_promo, promo=True)\n",
    "val_normal = prepare_for_std(val_normal)\n",
    "val_promo = prepare_for_std(val_promo, promo=True)\n",
    "test_normal = prepare_for_std(test_normal)\n",
    "test_promo = prepare_for_std(test_promo, promo=True)\n",
    "\n",
    "# check shape\n",
    "print(train_normal.shape)\n",
    "print(train_promo.shape)\n",
    "print(val_normal.shape)\n",
    "print(val_promo.shape)\n",
    "print(test_normal.shape)\n",
    "print(test_promo.shape)"
   ]
  },
  {
   "cell_type": "code",
   "execution_count": 23,
   "metadata": {},
   "outputs": [
    {
     "name": "stdout",
     "output_type": "stream",
     "text": [
      "(733589, 422)\n",
      "(185557, 425)\n",
      "(183182, 422)\n",
      "(46692, 425)\n",
      "(441888, 422)\n",
      "(119646, 425)\n"
     ]
    }
   ],
   "source": [
    "# standardise all numerical columns\n",
    "def standardise(data):    \n",
    "    # standardise all numerical columns\n",
    "    scaler = StandardScaler()\n",
    "    data[data.select_dtypes(include=['int', 'float']).columns] = scaler.fit_transform(data.select_dtypes(include=['int', 'float']))\n",
    "    return data\n",
    "\n",
    "train_normal = standardise(train_normal)\n",
    "train_promo = standardise(train_promo)\n",
    "val_normal = standardise(val_normal)\n",
    "val_promo = standardise(val_promo)\n",
    "test_normal = standardise(test_normal)\n",
    "test_promo = standardise(test_promo)\n",
    "\n",
    "# check shape\n",
    "print(train_normal.shape)\n",
    "print(train_promo.shape)\n",
    "print(val_normal.shape)\n",
    "print(val_promo.shape)\n",
    "print(test_normal.shape)\n",
    "print(test_promo.shape)"
   ]
  },
  {
   "cell_type": "markdown",
   "metadata": {},
   "source": [
    "## 2.7 Split data into x features and y target"
   ]
  },
  {
   "cell_type": "code",
   "execution_count": 24,
   "metadata": {},
   "outputs": [
    {
     "name": "stdout",
     "output_type": "stream",
     "text": [
      "(733589,)\n",
      "(733589, 421)\n",
      "(185557,)\n",
      "(185557, 424)\n",
      "(441888,)\n",
      "(441888, 421)\n",
      "(119646,)\n",
      "(119646, 424)\n",
      "(183182,)\n",
      "(183182, 421)\n",
      "(46692,)\n",
      "(46692, 424)\n"
     ]
    }
   ],
   "source": [
    "def y_x_split(data):\n",
    "    return data[\"sales_units\"], data.drop(\"sales_units\", axis =1)\n",
    "\n",
    "# Split data into x and y sets\n",
    "y_train_normal, x_train_normal = y_x_split(train_normal)\n",
    "y_train_promo, x_train_promo = y_x_split(train_promo)\n",
    "\n",
    "y_test_normal, x_test_normal = y_x_split(test_normal)\n",
    "y_test_promo, x_test_promo = y_x_split(test_promo)\n",
    "\n",
    "y_val_normal, x_val_normal = y_x_split(val_normal)\n",
    "y_val_promo, x_val_promo = y_x_split(val_promo)\n",
    "\n",
    "# check shape\n",
    "print(y_train_normal.shape)\n",
    "print(x_train_normal.shape)\n",
    "print(y_train_promo.shape)\n",
    "print(x_train_promo.shape)\n",
    "\n",
    "print(y_test_normal.shape)\n",
    "print(x_test_normal.shape)\n",
    "print(y_test_promo.shape)\n",
    "print(x_test_promo.shape)\n",
    "\n",
    "print(y_val_normal.shape)\n",
    "print(x_val_normal.shape)\n",
    "print(y_val_promo.shape)\n",
    "print(x_val_promo.shape)"
   ]
  },
  {
   "cell_type": "code",
   "execution_count": 25,
   "metadata": {},
   "outputs": [
    {
     "name": "stdout",
     "output_type": "stream",
     "text": [
      "799286   -0.243543\n",
      "874000   -0.260445\n",
      "913328   -0.159034\n",
      "691429    0.584650\n",
      "489002   -0.226641\n",
      "            ...   \n",
      "908629   -0.328053\n",
      "834373   -0.361857\n",
      "72894    -0.260445\n",
      "851845   -0.294249\n",
      "906202   -0.006917\n",
      "Name: sales_units, Length: 183182, dtype: float64\n"
     ]
    }
   ],
   "source": [
    "print(y_val_normal)"
   ]
  },
  {
   "cell_type": "markdown",
   "metadata": {},
   "source": [
    "## 2.8 Merge x_normal and y_normal, x_promo and y_promo"
   ]
  },
  {
   "cell_type": "code",
   "execution_count": 26,
   "metadata": {},
   "outputs": [],
   "source": [
    "train_normal = pd.concat([x_train_normal, y_train_normal], axis=1)\n",
    "val_normal = pd.concat([x_val_normal, y_val_normal], axis=1)\n",
    "test_normal = pd.concat([x_test_normal, y_test_normal], axis=1)"
   ]
  },
  {
   "cell_type": "code",
   "execution_count": 27,
   "metadata": {},
   "outputs": [],
   "source": [
    "train_promo = pd.concat([x_train_promo, y_train_promo], axis=1)\n",
    "val_promo = pd.concat([x_val_promo, y_val_promo], axis=1)\n",
    "test_promo = pd.concat([x_test_promo, y_test_promo], axis=1)"
   ]
  },
  {
   "cell_type": "markdown",
   "metadata": {},
   "source": [
    "## 2.9 Explore significant variables \n",
    "### Promo Sales:"
   ]
  },
  {
   "cell_type": "code",
   "execution_count": 28,
   "metadata": {},
   "outputs": [
    {
     "name": "stdout",
     "output_type": "stream",
     "text": [
      "sales_units                           1.000000\n",
      "promo_units                           0.947334\n",
      "sales_amount                          0.689079\n",
      "sales_amount_exclude_gst              0.689079\n",
      "cost_of_purchasing                    0.670593\n",
      "promo_sales                           0.642259\n",
      "marginal_sales_per_dollar_decrease    0.555676\n",
      "scanback                              0.552674\n",
      "net_profit                            0.419600\n",
      "segment_Own Brand Wipes               0.352412\n",
      "brand_DYMPLES                         0.352412\n",
      "brandtype_Private Label               0.341572\n",
      "category_Skin & Sun Care              0.317143\n",
      "subcategory_Skincare Face             0.282413\n",
      "category_Household Cleaning           0.230199\n",
      "subcategory_Baby Wipes                0.198109\n",
      "subcategory_Prewash & Conditio        0.182965\n",
      "gross_profit                          0.182345\n",
      "brand_HUGGIES                         0.181430\n",
      "subcategory_Paper Towels              0.174463\n",
      "brand_VIVA                            0.174463\n",
      "segment_Paper Towels                  0.174463\n",
      "segment_Fabric Conditioner            0.172876\n",
      "brand_HUGGIE                          0.142697\n",
      "subcategory_Laundry Detergent         0.141726\n",
      "segment_Huggies Jumbo Nappy           0.140765\n",
      "sell_price                            0.136128\n",
      "subcategory_Deodorants                0.135894\n",
      "subcategory_Disposable Nappies        0.135109\n",
      "brand_DUO                             0.132275\n",
      "brand_REXONA                          0.132194\n",
      "category_Baby Consumables             0.120559\n",
      "brand_FLUFFY                          0.114216\n",
      "subcategory_Cleaning Products         0.113179\n",
      "segment_Olay                          0.112971\n",
      "brand_OLAY                            0.112971\n",
      "segment_Bathroom                      0.111534\n",
      "promo_price                           0.103854\n",
      "dtype: float64\n"
     ]
    }
   ],
   "source": [
    "correlations = train_promo.corrwith(train_promo['sales_units']).abs()\n",
    "significant_features = correlations[correlations > 0.1]  \n",
    "print(significant_features.sort_values(ascending=False))"
   ]
  },
  {
   "cell_type": "code",
   "execution_count": 29,
   "metadata": {},
   "outputs": [
    {
     "name": "stdout",
     "output_type": "stream",
     "text": [
      "(38,)\n"
     ]
    }
   ],
   "source": [
    "print(significant_features.shape)"
   ]
  },
  {
   "cell_type": "markdown",
   "metadata": {},
   "source": [
    "# Regression"
   ]
  },
  {
   "cell_type": "markdown",
   "metadata": {},
   "source": [
    "# Regression Model\n",
    "## Promo Sales \n",
    "### Fetures Seletion\n",
    "#### Correlation "
   ]
  },
  {
   "cell_type": "code",
   "execution_count": 30,
   "metadata": {},
   "outputs": [
    {
     "name": "stdout",
     "output_type": "stream",
     "text": [
      "sales_units                           1.000000\n",
      "promo_units                           0.947334\n",
      "sales_amount                          0.689079\n",
      "sales_amount_exclude_gst              0.689079\n",
      "cost_of_purchasing                    0.670593\n",
      "promo_sales                           0.642259\n",
      "marginal_sales_per_dollar_decrease    0.555676\n",
      "scanback                              0.552674\n",
      "net_profit                            0.419600\n",
      "segment_Own Brand Wipes               0.352412\n",
      "brand_DYMPLES                         0.352412\n",
      "brandtype_Private Label               0.341572\n",
      "category_Skin & Sun Care              0.317143\n",
      "subcategory_Skincare Face             0.282413\n",
      "category_Household Cleaning           0.230199\n",
      "subcategory_Baby Wipes                0.198109\n",
      "subcategory_Prewash & Conditio        0.182965\n",
      "gross_profit                          0.182345\n",
      "brand_HUGGIES                         0.181430\n",
      "subcategory_Paper Towels              0.174463\n",
      "brand_VIVA                            0.174463\n",
      "segment_Paper Towels                  0.174463\n",
      "segment_Fabric Conditioner            0.172876\n",
      "brand_HUGGIE                          0.142697\n",
      "subcategory_Laundry Detergent         0.141726\n",
      "segment_Huggies Jumbo Nappy           0.140765\n",
      "sell_price                            0.136128\n",
      "subcategory_Deodorants                0.135894\n",
      "subcategory_Disposable Nappies        0.135109\n",
      "brand_DUO                             0.132275\n",
      "brand_REXONA                          0.132194\n",
      "category_Baby Consumables             0.120559\n",
      "brand_FLUFFY                          0.114216\n",
      "subcategory_Cleaning Products         0.113179\n",
      "segment_Olay                          0.112971\n",
      "brand_OLAY                            0.112971\n",
      "segment_Bathroom                      0.111534\n",
      "promo_price                           0.103854\n",
      "dtype: float64\n"
     ]
    }
   ],
   "source": [
    "correlations = train_promo.corrwith(train_promo['sales_units']).abs()\n",
    "significant_features = correlations[correlations > 0.1]  \n",
    "print(significant_features.sort_values(ascending=False))\n"
   ]
  },
  {
   "cell_type": "markdown",
   "metadata": {},
   "source": [
    "#### SLR"
   ]
  },
  {
   "cell_type": "code",
   "execution_count": 31,
   "metadata": {},
   "outputs": [],
   "source": [
    "x = 'sales_amount'\n",
    "y = 'sales_units'\n",
    "\n",
    "x_train = train_promo[x]\n",
    "y_train = train_promo[y]\n",
    "x_val = val_promo[x]\n",
    "y_val = val_promo[y]\n",
    "x_test = test_promo[x]\n",
    "y_test = test_promo[y]"
   ]
  },
  {
   "cell_type": "code",
   "execution_count": 32,
   "metadata": {},
   "outputs": [
    {
     "name": "stdout",
     "output_type": "stream",
     "text": [
      "SLR Validation RMSE: 0.7312349375915933\n",
      "SLR Test RMSE: 0.7581094258391234\n"
     ]
    }
   ],
   "source": [
    "# train data\n",
    "SLR = smf.ols(formula=f\"{y} ~ {x}\", data=train_promo).fit()\n",
    "#SLR.summary()\n",
    "\n",
    "# validation data\n",
    "y_val_pred = SLR.predict(x_val)\n",
    "SLR_val_rmse = np.sqrt(mean_squared_error(y_val, y_val_pred))\n",
    "print(\"SLR Validation RMSE:\", SLR_val_rmse)\n",
    "\n",
    "# test data\n",
    "\n",
    "y_test_pred = SLR.predict(x_test)\n",
    "SLR_test_rmse = np.sqrt(mean_squared_error(y_test, y_test_pred))\n",
    "print(\"SLR Test RMSE:\", SLR_test_rmse)"
   ]
  },
  {
   "cell_type": "code",
   "execution_count": 33,
   "metadata": {},
   "outputs": [
    {
     "data": {
      "image/png": "[encoded data removed]",
      "text/plain": [
       "<Figure size 576x432 with 1 Axes>"
      ]
     },
     "metadata": {
      "needs_background": "light"
     },
     "output_type": "display_data"
    },
    {
     "data": {
      "image/png": "[encoded data removed]",
      "text/plain": [
       "<Figure size 576x432 with 1 Axes>"
      ]
     },
     "metadata": {
      "needs_background": "light"
     },
     "output_type": "display_data"
    }
   ],
   "source": [
    "import matplotlib.pyplot as plt\n",
    "\n",
    "#validation set\n",
    "plt.figure(figsize=(8, 6))\n",
    "plt.scatter(y_val, y_val_pred, color='blue', alpha=0.5)\n",
    "plt.plot([y_val.min(), y_val.max()], [y_val.min(), y_val.max()], color='red', linestyle='--')\n",
    "plt.title('Validation Set: Actual vs Predicted')\n",
    "plt.xlabel('Actual')\n",
    "plt.ylabel('Predicted')\n",
    "plt.show()\n",
    "\n",
    "# test set\n",
    "plt.figure(figsize=(8, 6))\n",
    "plt.scatter(y_test, y_test_pred, color='blue', alpha=0.5)\n",
    "plt.plot([y_test.min(), y_test.max()], [y_test.min(), y_test.max()], color='red', linestyle='--')\n",
    "plt.title('Test Set: Actual vs Predicted')\n",
    "plt.xlabel('Actual')\n",
    "plt.ylabel('Predicted')\n",
    "plt.show()"
   ]
  },
  {
   "cell_type": "markdown",
   "metadata": {},
   "source": [
    "#### MLR"
   ]
  },
  {
   "cell_type": "code",
   "execution_count": 34,
   "metadata": {},
   "outputs": [],
   "source": [
    "correlation = train_promo.corr()\n",
    "#variable selected\n",
    "x = correlation[correlation['sales_units'] > 0.4].index.tolist()\n",
    "x.remove('sales_units')\n",
    "y = 'sales_units'\n",
    "\n",
    "x_train = train_promo[x]\n",
    "y_train = train_promo[y]\n",
    "x_val = val_promo[x]\n",
    "y_val = val_promo[y]\n",
    "x_test = test_promo[x]\n",
    "y_test = test_promo[y]"
   ]
  },
  {
   "cell_type": "code",
   "execution_count": 35,
   "metadata": {},
   "outputs": [
    {
     "name": "stdout",
     "output_type": "stream",
     "text": [
      "Optimal features: ['promo_sales', 'promo_units', 'sales_amount', 'net_profit', 'sales_amount_exclude_gst', 'cost_of_purchasing', 'marginal_sales_per_dollar_decrease']\n",
      "MLR Validation RMSE: 0.17146228492235144\n",
      "MLR Test RMSE: 0.15656470877618137\n"
     ]
    }
   ],
   "source": [
    "# min RMSE and optimal solution\n",
    "min_rmse = float('inf')\n",
    "optimal_x = x.copy()\n",
    "\n",
    "# Backward\n",
    "for i in range(len(x)):\n",
    "    \n",
    "    temp_x = x.copy()\n",
    "    del temp_x[i]\n",
    "    \n",
    "    # train model & RMSE\n",
    "    model = LinearRegression()\n",
    "    model.fit(x_train[temp_x], y_train)\n",
    "    y_val_pred = model.predict(x_val[temp_x])\n",
    "    rmse = np.sqrt(mean_squared_error(y_val, y_val_pred))\n",
    "    \n",
    "    # update RMSE and x\n",
    "    if rmse < min_rmse:\n",
    "        min_rmse = rmse\n",
    "        optimal_x = temp_x\n",
    "\n",
    "# evaluate in validation set\n",
    "model = LinearRegression()\n",
    "model.fit(x_train[optimal_x], y_train)\n",
    "y_val_pred = model.predict(x_val[optimal_x])\n",
    "MLR_val_rmse = np.sqrt(mean_squared_error(y_val, y_val_pred))\n",
    "\n",
    "# optimal_x and validation RMSE\n",
    "print(\"Optimal features:\", optimal_x)\n",
    "print(\"MLR Validation RMSE:\", MLR_val_rmse)\n",
    "\n",
    "# test data RMSE\n",
    "y_test_pred = model.predict(x_test[optimal_x])\n",
    "MLR_test_rmse = np.sqrt(mean_squared_error(y_test, y_test_pred))\n",
    "print(\"MLR Test RMSE:\", MLR_test_rmse)"
   ]
  },
  {
   "cell_type": "markdown",
   "metadata": {},
   "source": [
    "#### LASSO"
   ]
  },
  {
   "cell_type": "code",
   "execution_count": 36,
   "metadata": {},
   "outputs": [
    {
     "name": "stdout",
     "output_type": "stream",
     "text": [
      "Selected alpha: 0.0009473341019883641\n",
      "Selected features: ['promo_sales', 'promo_units', 'scanback', 'sales_amount', 'cost_of_purchasing', 'marginal_sales_per_dollar_decrease']\n",
      "LASSO Validation RMSE: 0.17142473433843977\n",
      "LASSO Test RMSE: 0.1561526611250639\n"
     ]
    },
    {
     "data": {
      "image/png": "[encoded data removed]",
      "text/plain": [
       "<Figure size 720x432 with 1 Axes>"
      ]
     },
     "metadata": {
      "needs_background": "light"
     },
     "output_type": "display_data"
    }
   ],
   "source": [
    "import numpy as np\n",
    "import matplotlib.pyplot as plt\n",
    "from sklearn.linear_model import LassoCV, Lasso\n",
    "from sklearn.preprocessing import StandardScaler\n",
    "\n",
    "# Scale features\n",
    "scaler = StandardScaler()\n",
    "x_train_scaled = scaler.fit_transform(x_train)\n",
    "x_val_scaled = scaler.transform(x_val)\n",
    "x_test_scaled = scaler.transform(x_test)\n",
    "\n",
    "# LASSO Model for Feature Selection\n",
    "lasso = LassoCV(cv=5, random_state=3600)\n",
    "lasso.fit(x_train_scaled, y_train)\n",
    "\n",
    "# Output the optimal alpha chosen by LassoCV\n",
    "print(\"Selected alpha:\", lasso.alpha_)\n",
    "\n",
    "# Select non-zero coefficient features\n",
    "selected_features = [feature for i, feature in enumerate(x_train.columns) if lasso.coef_[i] != 0]\n",
    "print(\"Selected features:\", selected_features)\n",
    "\n",
    "# Prediction and evaluation on validation data\n",
    "y_val_pred = lasso.predict(x_val_scaled)\n",
    "lasso_val_rmse = np.sqrt(mean_squared_error(y_val, y_val_pred))\n",
    "print(\"LASSO Validation RMSE:\", lasso_val_rmse)\n",
    "\n",
    "# Prediction and evaluation on test data\n",
    "y_test_pred = lasso.predict(x_test_scaled)\n",
    "lasso_test_rmse = np.sqrt(mean_squared_error(y_test, y_test_pred))\n",
    "print(\"LASSO Test RMSE:\", lasso_test_rmse)\n",
    "\n",
    "# Plot Lasso coefficients as a function of alpha\n",
    "alphas = np.linspace(0.01, 500, 100)\n",
    "coefs = []\n",
    "\n",
    "for a in alphas:\n",
    "    lasso = Lasso(max_iter=10000, alpha=a)\n",
    "    lasso.fit(x_train_scaled, y_train)\n",
    "    coefs.append(lasso.coef_)\n",
    "\n",
    "plt.figure(figsize=(10, 6))\n",
    "plt.plot(alphas, coefs)\n",
    "plt.xscale('log')\n",
    "plt.xlabel('Alpha')\n",
    "plt.ylabel('Standardized Coefficients')\n",
    "plt.title('Lasso Coefficients as a Function of Alpha in promo_sales')\n",
    "plt.show()\n"
   ]
  },
  {
   "cell_type": "markdown",
   "metadata": {},
   "source": [
    "#### Polynomial \n"
   ]
  },
  {
   "cell_type": "code",
   "execution_count": 37,
   "metadata": {},
   "outputs": [
    {
     "name": "stdout",
     "output_type": "stream",
     "text": [
      " Polynomial Best Validation RMSE: 0.26470374617305015\n",
      "Polynomial Test RMSE: 0.1976393866565162\n",
      "Polynomial Selected Features: Index(['promo_sales', 'promo_units', 'sales_amount',\n",
      "       'sales_amount_exclude_gst', 'cost_of_purchasing'],\n",
      "      dtype='object')\n"
     ]
    }
   ],
   "source": [
    "from sklearn.model_selection import GridSearchCV, cross_val_score\n",
    "from sklearn.pipeline import Pipeline\n",
    "from sklearn.preprocessing import PolynomialFeatures\n",
    "from sklearn.feature_selection import SelectKBest, f_regression\n",
    "from sklearn.linear_model import LinearRegression\n",
    "from sklearn.metrics import mean_squared_error\n",
    "import numpy as np\n",
    "\n",
    "# Define a function to calculate RMSE \n",
    "def rmse_cv(model, X, y):\n",
    "    rmse = np.sqrt(-cross_val_score(model, X, y, scoring=\"neg_mean_squared_error\", cv=5))\n",
    "    return rmse\n",
    "\n",
    "# Initialize lists to store results\n",
    "best_rmse = float('inf')\n",
    "best_features = None\n",
    "\n",
    "# Define the range of polynomial degrees to search\n",
    "degrees = [1, 2, 3, 4, 5]\n",
    "\n",
    "# Loop through each degree\n",
    "for degree in degrees:\n",
    "    pipeline = Pipeline([\n",
    "        ('feature_selection', SelectKBest(score_func=f_regression)),\n",
    "        ('polynomial_features', PolynomialFeatures(degree=degree)),\n",
    "        ('regression', LinearRegression())\n",
    "    ])\n",
    "\n",
    "    #feature selection\n",
    "    param_grid = {\n",
    "        'feature_selection__k': np.arange(1, len(x_train.columns)+1),\n",
    "    }\n",
    "\n",
    "    #grid search\n",
    "    grid_search = GridSearchCV(pipeline, param_grid, cv=5, scoring='neg_mean_squared_error')\n",
    "    grid_search.fit(x_train, y_train)\n",
    "\n",
    "    # best model\n",
    "    best_model = grid_search.best_estimator_\n",
    "\n",
    "    # RMSE of the best model on validation set\n",
    "    val_rmse = rmse_cv(best_model, x_val, y_val).mean()\n",
    "\n",
    "    # If this model has the lowest RMSE, update best_rmse and best_features\n",
    "    if val_rmse < best_rmse:\n",
    "        best_rmse = val_rmse\n",
    "        best_features = best_model.named_steps['feature_selection'].get_support()\n",
    "\n",
    "# Get the selected features\n",
    "Polynomial_selected_features = x_train.columns[best_features]\n",
    "\n",
    "# train the best model on the full training set\n",
    "best_model.fit(x_train, y_train)\n",
    "\n",
    "# Calculate RMSE on validation set\n",
    "Polynomial_val_rmse = np.sqrt(mean_squared_error(y_val, best_model.predict(x_val)))\n",
    "\n",
    "# Calculate RMSE on test set\n",
    "Polynomial_test_rmse = np.sqrt(mean_squared_error(y_test, best_model.predict(x_test)))\n",
    "\n",
    "print(\" Polynomial Best Validation RMSE:\", Polynomial_val_rmse)\n",
    "print(\"Polynomial Test RMSE:\", Polynomial_test_rmse)\n",
    "print(\"Polynomial Selected Features:\", Polynomial_selected_features)\n"
   ]
  },
  {
   "cell_type": "markdown",
   "metadata": {},
   "source": [
    "#### Log transformation"
   ]
  },
  {
   "cell_type": "markdown",
   "metadata": {},
   "source": [
    "sales_amount has 571677 Zero or negative values"
   ]
  },
  {
   "cell_type": "markdown",
   "metadata": {},
   "source": [
    "#### Ridge\n",
    "In ridge regression, because it can handle certain multicollinearity, more variables can be considered for modeling to see the overall performance of the model."
   ]
  },
  {
   "cell_type": "code",
   "execution_count": 38,
   "metadata": {},
   "outputs": [
    {
     "name": "stdout",
     "output_type": "stream",
     "text": [
      "NaNs in x_train: 0\n",
      "NaNs in y_train: 0\n",
      "Infinities in x_train: 0\n",
      "Infinities in y_train: 0\n",
      "Number of samples in x_train after handling NaNs: 185557\n",
      "Number of samples in y_train after handling NaNs: 185557\n",
      "Number of samples in x_train after handling NaNs and syncing: 185557\n",
      "Number of samples in y_train after handling NaNs and syncing: 185557\n",
      "Ridge Selected alpha: 10.0\n",
      "Ridge Validation RMSE: 0.1715696151803571\n",
      "Ridge Test RMSE: 0.15709473772031468\n"
     ]
    }
   ],
   "source": [
    "from sklearn.linear_model import RidgeCV\n",
    "from sklearn.metrics import mean_squared_error\n",
    "from sklearn.pipeline import make_pipeline\n",
    "from sklearn.preprocessing import StandardScaler\n",
    "import numpy as np\n",
    "import pandas as pd\n",
    "\n",
    "# Filter data based on same features\n",
    "consistent_features = x_train.columns.intersection(x_val.columns).intersection(x_test.columns)\n",
    "x_train = x_train[consistent_features]\n",
    "x_val = x_val[consistent_features]\n",
    "x_test = x_test[consistent_features]\n",
    "\n",
    "# drop datetime\n",
    "train_promo = train_promo.select_dtypes(exclude=[pd.Timestamp, 'datetime'])\n",
    "val_promo = val_promo.select_dtypes(exclude=[pd.Timestamp, 'datetime'])\n",
    "test_promo = test_promo.select_dtypes(exclude=[pd.Timestamp, 'datetime'])\n",
    "\n",
    "# features selection\n",
    "used_features = x_train.columns.tolist()\n",
    "x_train = x_train[used_features]\n",
    "x_val = x_val[used_features]\n",
    "x_test = x_test[used_features]\n",
    "\n",
    "# check NaN and Infinity\n",
    "print(\"NaNs in x_train:\", x_train.isnull().sum().sum())\n",
    "print(\"NaNs in y_train:\", y_train.isnull().sum())\n",
    "print(\"Infinities in x_train:\", np.isinf(x_train).sum().sum())\n",
    "print(\"Infinities in y_train:\", np.isinf(y_train).sum())\n",
    "\n",
    "# process NaNs and Infinity\n",
    "x_train = x_train.align(y_train, join='inner', axis=0)[0]\n",
    "x_train = x_train.fillna(x_train.mean())\n",
    "print(\"Number of samples in x_train after handling NaNs:\", x_train.shape[0])\n",
    "print(\"Number of samples in y_train after handling NaNs:\", y_train.shape[0])\n",
    "\n",
    "# cleaning y_train\n",
    "x_train['target'] = y_train\n",
    "x_train = x_train.dropna()\n",
    "y_train = x_train['target']\n",
    "x_train = x_train.drop(columns=['target'])\n",
    "print(\"Number of samples in x_train after handling NaNs and syncing:\", x_train.shape[0])\n",
    "print(\"Number of samples in y_train after handling NaNs and syncing:\", y_train.shape[0])\n",
    "\n",
    "\n",
    "x_train = x_train.astype(float)\n",
    "\n",
    "\n",
    "x_train = x_train.replace([np.inf, -np.inf], np.nan)\n",
    "x_train = x_train.fillna(x_train.mean()) \n",
    "\n",
    "y_train = y_train.replace([np.inf, -np.inf], np.nan).fillna(y_train.mean())\n",
    "\n",
    "# Ridge model\n",
    "alphas = np.logspace(-6, 6, 13)  \n",
    "ridge_cv = RidgeCV(alphas=alphas, scoring='neg_mean_squared_error', cv=5)\n",
    "\n",
    "pipeline = make_pipeline(StandardScaler(), ridge_cv)\n",
    "\n",
    "# train\n",
    "pipeline.fit(x_train, y_train)\n",
    "\n",
    "# best alpha\n",
    "print(\"Ridge Selected alpha:\", pipeline.named_steps['ridgecv'].alpha_)\n",
    "\n",
    "# predict\n",
    "y_val_pred = pipeline.predict(x_val)\n",
    "\n",
    "# validation\n",
    "Ridge_val_rmse = np.sqrt(mean_squared_error(y_val, y_val_pred))\n",
    "print(\"Ridge Validation RMSE:\", Ridge_val_rmse)\n",
    "\n",
    "# test\n",
    "x_test = x_test[consistent_features]\n",
    "x_test = x_test.astype(float)\n",
    "x_test = x_test.replace([np.inf, -np.inf], np.nan)\n",
    "\n",
    "x_test = x_test.fillna(x_train.mean()) \n",
    "\n",
    "y_test_pred = pipeline.predict(x_test)\n",
    "\n",
    "Ridge_test_rmse = np.sqrt(mean_squared_error(y_test, y_test_pred))\n",
    "print(\"Ridge Test RMSE:\", Ridge_test_rmse)\n",
    "\n",
    "\n"
   ]
  },
  {
   "cell_type": "code",
   "execution_count": 39,
   "metadata": {},
   "outputs": [
    {
     "name": "stdout",
     "output_type": "stream",
     "text": [
      "                              Feature  Coefficient  Absolute_Coefficient\n",
      "0                         promo_sales    -0.927994              0.927994\n",
      "1                         promo_units     0.910832              0.910832\n",
      "6                  cost_of_purchasing     0.329429              0.329429\n",
      "5            sales_amount_exclude_gst     0.302996              0.302996\n",
      "3                        sales_amount     0.302996              0.302996\n",
      "7  marginal_sales_per_dollar_decrease     0.060958              0.060958\n",
      "4                          net_profit     0.056925              0.056925\n",
      "2                            scanback     0.015560              0.015560\n"
     ]
    }
   ],
   "source": [
    "# sort coefficients\n",
    "import pandas as pd\n",
    "\n",
    "coefficients = pipeline.named_steps['ridgecv'].coef_\n",
    "\n",
    "coefficients_df = pd.DataFrame({'Feature': x_train.columns, 'Coefficient': coefficients})\n",
    "\n",
    "coefficients_df['Absolute_Coefficient'] = coefficients_df['Coefficient'].abs()\n",
    "coefficients_df_sorted = coefficients_df.sort_values(by='Absolute_Coefficient', ascending=False)\n",
    "print(coefficients_df_sorted)\n"
   ]
  },
  {
   "cell_type": "markdown",
   "metadata": {},
   "source": [
    "#### Elastic Net"
   ]
  },
  {
   "cell_type": "code",
   "execution_count": 40,
   "metadata": {},
   "outputs": [
    {
     "name": "stdout",
     "output_type": "stream",
     "text": [
      "Selected alpha: 5.994842503189409e-05\n",
      "Selected l1_ratio: 0.78\n",
      "Elastic Validation RMSE: 0.17156662714947948\n",
      "Elastic Test RMSE: 0.1576318340439902\n"
     ]
    }
   ],
   "source": [
    "from sklearn.linear_model import ElasticNetCV\n",
    "# ranges for alpha and l1_ratio\n",
    "alphas = np.logspace(-6, 2, 10)  \n",
    "l1_ratios = np.linspace(0.01, 1, 10) \n",
    "\n",
    "#  ElasticNetCV \n",
    "elastic_net_cv = ElasticNetCV(alphas=alphas, l1_ratio=l1_ratios, cv=5, random_state=42)\n",
    "# train model\n",
    "elastic_net_cv.fit(x_train, y_train)\n",
    "\n",
    "# best alpha and l1_ratio\n",
    "print(\"Selected alpha:\", elastic_net_cv.alpha_)\n",
    "print(\"Selected l1_ratio:\", elastic_net_cv.l1_ratio_)\n",
    "\n",
    "# validation set\n",
    "y_val_pred = elastic_net_cv.predict(x_val)\n",
    "Elastic_val_rmse = np.sqrt(mean_squared_error(y_val, y_val_pred))\n",
    "print(\"Elastic Validation RMSE:\", Elastic_val_rmse)\n",
    "\n",
    "# test set\n",
    "y_test_pred = elastic_net_cv.predict(x_test)\n",
    "Elastic_test_rmse = np.sqrt(mean_squared_error(y_test, y_test_pred))\n",
    "print(\"Elastic Test RMSE:\", Elastic_test_rmse)\n"
   ]
  },
  {
   "cell_type": "markdown",
   "metadata": {},
   "source": [
    "## Comparison of models for Promo_Sales"
   ]
  },
  {
   "cell_type": "code",
   "execution_count": 41,
   "metadata": {},
   "outputs": [
    {
     "name": "stdout",
     "output_type": "stream",
     "text": [
      "         Model  Validation RMSE  Test RMSE\n",
      "2        LASSO         0.171425   0.156153\n",
      "1          MLR         0.171462   0.156565\n",
      "4        Ridge         0.171570   0.157095\n",
      "5  Elastic Net         0.171567   0.157632\n",
      "3   Polynomial         0.264704   0.197639\n",
      "0          SLR         0.731235   0.758109\n"
     ]
    }
   ],
   "source": [
    "data = {\n",
    "    'Model': ['SLR', 'MLR', 'LASSO', 'Polynomial', 'Ridge', 'Elastic Net'],\n",
    "    'Validation RMSE': [SLR_val_rmse, MLR_val_rmse, lasso_val_rmse, Polynomial_val_rmse, Ridge_val_rmse, Elastic_val_rmse],\n",
    "    'Test RMSE': [SLR_test_rmse, MLR_test_rmse, lasso_test_rmse, Polynomial_test_rmse, Ridge_test_rmse, Elastic_test_rmse]\n",
    "}\n",
    "\n",
    "results_df = pd.DataFrame(data)\n",
    "\n",
    "# sort\n",
    "sorted_results_df = results_df.sort_values('Test RMSE')\n",
    "\n",
    "print(sorted_results_df)\n"
   ]
  }
 ],
 "metadata": {
  "kernelspec": {
   "display_name": "Python 3 (ipykernel)",
   "language": "python",
   "name": "python3"
  },
  "language_info": {
   "codemirror_mode": {
    "name": "ipython",
    "version": 3
   },
   "file_extension": ".py",
   "mimetype": "text/x-python",
   "name": "python",
   "nbconvert_exporter": "python",
   "pygments_lexer": "ipython3",
   "version": "3.9.12"
  }
 },
 "nbformat": 4,
 "nbformat_minor": 4
}
